{
 "cells": [
  {
   "cell_type": "code",
   "execution_count": null,
   "outputs": [],
   "source": [
    "\n",
    "import pandas as pd\n",
    "import plotly.express as px\n",
    "data =pd.read_csv(\"survey_lung_cancer.csv\")\n",
    "data.dropna()\n",
    "chart1 = px.histogram(data, x=\"AGE\")\n",
    "chart1.show()\n",
    "fig = px.pie(data, values='SMOKING', names='GENDER')\n",
    "fig.show()\n",
    "\n",
    "fig = px.density_heatmap(data, x=\"AGE\", y=\"LUNG_CANCER\")\n",
    "fig.show()\n",
    "fig = px.bar(data, x='AGE', y='SMOKING')\n",
    "fig.show()\n",
    "fig = px.bar(data, x='LUNG_CANCER')\n",
    "fig.show()\n",
    "fig = px.scatter(data, x=\"SMOKING\", y=\"AGE\",\n",
    "                 size='GENDER')\n",
    "fig.show()"
   ],
   "metadata": {
    "collapsed": false,
    "pycharm": {
     "name": "#%%\n"
    }
   }
  },
  {
   "cell_type": "code",
   "execution_count": null,
   "outputs": [],
   "source": [],
   "metadata": {
    "collapsed": false,
    "pycharm": {
     "name": "#%%\n"
    }
   }
  },
  {
   "cell_type": "code",
   "execution_count": 15,
   "metadata": {},
   "outputs": [],
   "source": []
  },
  {
   "cell_type": "code",
   "execution_count": null,
   "metadata": {},
   "outputs": [],
   "source": []
  }
 ],
 "metadata": {
  "kernelspec": {
   "display_name": "Python 3 (ipykernel)",
   "language": "python",
   "name": "python3"
  },
  "language_info": {
   "codemirror_mode": {
    "name": "ipython",
    "version": 3
   },
   "file_extension": ".py",
   "mimetype": "text/x-python",
   "name": "python",
   "nbconvert_exporter": "python",
   "pygments_lexer": "ipython3",
   "version": "3.10.7"
  }
 },
 "nbformat": 4,
 "nbformat_minor": 1
}